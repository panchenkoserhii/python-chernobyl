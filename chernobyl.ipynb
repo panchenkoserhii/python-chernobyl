{
 "cells": [
  {
   "cell_type": "code",
   "execution_count": 1,
   "id": "13aed05c",
   "metadata": {},
   "outputs": [
    {
     "ename": "ModuleNotFoundError",
     "evalue": "No module named 'squarify'",
     "output_type": "error",
     "traceback": [
      "\u001b[1;31m---------------------------------------------------------------------------\u001b[0m",
      "\u001b[1;31mModuleNotFoundError\u001b[0m                       Traceback (most recent call last)",
      "Cell \u001b[1;32mIn[1], line 5\u001b[0m\n\u001b[0;32m      3\u001b[0m \u001b[38;5;28;01mimport\u001b[39;00m \u001b[38;5;21;01mpandas\u001b[39;00m \u001b[38;5;28;01mas\u001b[39;00m \u001b[38;5;21;01mpd\u001b[39;00m\n\u001b[0;32m      4\u001b[0m \u001b[38;5;28;01mimport\u001b[39;00m \u001b[38;5;21;01mnumpy\u001b[39;00m \u001b[38;5;28;01mas\u001b[39;00m \u001b[38;5;21;01mnpv\u001b[39;00m\n\u001b[1;32m----> 5\u001b[0m \u001b[38;5;28;01mimport\u001b[39;00m \u001b[38;5;21;01msquarify\u001b[39;00m\n\u001b[0;32m      6\u001b[0m \u001b[38;5;28;01mimport\u001b[39;00m \u001b[38;5;21;01mseaborn\u001b[39;00m \u001b[38;5;28;01mas\u001b[39;00m \u001b[38;5;21;01msns\u001b[39;00m\n",
      "\u001b[1;31mModuleNotFoundError\u001b[0m: No module named 'squarify'"
     ]
    }
   ],
   "source": [
    "import matplotlib as mpl\n",
    "import matplotlib.pyplot as plt\n",
    "import pandas as pd\n",
    "import numpy as npv\n",
    "import squarify\n",
    "import seaborn as sns"
   ]
  },
  {
   "cell_type": "code",
   "execution_count": null,
   "id": "3c6b13df",
   "metadata": {},
   "outputs": [],
   "source": [
    "df = pd.read_csv(r'C:\\Users\\Sergii\\Desktop\\cancer_before_and_after_Chernobyl_Belarus.csv')"
   ]
  },
  {
   "cell_type": "code",
   "execution_count": null,
   "id": "d3bbd6b0",
   "metadata": {},
   "outputs": [],
   "source": [
    "palette = {'blue': '#3B7CB3', 'violet': '#9E609C', 'yellow': '#F5EEDC', 'green': '#0C868D', 'red': '#dd4a48'}"
   ]
  },
  {
   "cell_type": "code",
   "execution_count": null,
   "id": "3e44dfe7",
   "metadata": {},
   "outputs": [],
   "source": [
    "mpl.rcParams['figure.figsize'] = (12, 11)\n",
    "mpl.rcParams['figure.facecolor'] = palette['yellow']\n",
    "mpl.rcParams['font.family'] = 'fantasy'\n",
    "mpl.rcParams['font.fantasy'] = 'Calibri'\n",
    "mpl.rcParams['axes.facecolor'] = palette['yellow']\n",
    "mpl.rcParams['axes.grid'] = True\n",
    "mpl.rcParams['axes.grid.axis'] = 'y'\n",
    "mpl.rcParams['grid.color'] = palette['green']\n",
    "mpl.rcParams['grid.linestyle'] = '--'\n",
    "mpl.rcParams['axes.spines.top'] = False\n",
    "mpl.rcParams['axes.spines.right'] = False\n",
    "plt.rcParams['axes.axisbelow'] = True"
   ]
  },
  {
   "cell_type": "code",
   "execution_count": null,
   "id": "9df200e6",
   "metadata": {},
   "outputs": [],
   "source": [
    "def green_axes():\n",
    "    ax.spines['left'].set_color(palette['green'])\n",
    "    ax.spines['bottom'].set_color(palette['green'])"
   ]
  },
  {
   "cell_type": "code",
   "execution_count": null,
   "id": "8ca6a50b",
   "metadata": {},
   "outputs": [],
   "source": [
    "def arrow(x, y, xlen, ylen, color):\n",
    "    plt.arrow(x, y, xlen, ylen, color=color, length_includes_head=True, head_length=10, head_width=0.01)"
   ]
  },
  {
   "cell_type": "code",
   "execution_count": null,
   "id": "507c3bac",
   "metadata": {},
   "outputs": [],
   "source": [
    "def text_box(x, y, str, ha='left'):\n",
    "    plt.text(x, y, str, ha=ha, va='center', color=palette['green'], fontsize=10,\n",
    "             bbox=dict(boxstyle='square', facecolor='#faf6ed', edgecolor='#faf6ed'))"
   ]
  },
  {
   "cell_type": "code",
   "execution_count": null,
   "id": "0bbb8d7c",
   "metadata": {},
   "outputs": [],
   "source": [
    "print(df.columns.values)"
   ]
  },
  {
   "cell_type": "code",
   "execution_count": null,
   "id": "f1505fcd",
   "metadata": {},
   "outputs": [],
   "source": [
    "print(df.head())"
   ]
  },
  {
   "cell_type": "code",
   "execution_count": null,
   "id": "2def1f4b",
   "metadata": {},
   "outputs": [],
   "source": [
    "print(df.info())"
   ]
  },
  {
   "cell_type": "code",
   "execution_count": null,
   "id": "be55be49",
   "metadata": {},
   "outputs": [],
   "source": [
    "df.describe()"
   ]
  },
  {
   "cell_type": "code",
   "execution_count": null,
   "id": "d97f97a1",
   "metadata": {},
   "outputs": [],
   "source": [
    "df.describe(include=['O'])"
   ]
  },
  {
   "cell_type": "code",
   "execution_count": null,
   "id": "ed91d908",
   "metadata": {},
   "outputs": [],
   "source": [
    "sum_1985 = np.sum(df[df['year'] == 1985]['cases'])\n",
    "sum_1986 = np.sum(df[df['year'] == 1986]['cases'])\n",
    "sums = [sum_1985, sum_1986]"
   ]
  },
  {
   "cell_type": "code",
   "execution_count": null,
   "id": "5d135477",
   "metadata": {},
   "outputs": [],
   "source": [
    "%matplotlib inline"
   ]
  },
  {
   "cell_type": "code",
   "execution_count": null,
   "id": "a469d6fa",
   "metadata": {},
   "outputs": [],
   "source": [
    "fig = plt.figure()\n",
    "ax = plt.axes()\n",
    "\n",
    "green_axes()\n",
    "\n",
    "#data preporation\n",
    "years = ['1977-1985', '1986-1994']\n",
    "\n",
    "#bars\n",
    "ax.bar(years, sums, color=palette['green'])\n",
    "\n",
    "#labels\n",
    "for i, bar_value in enumerate(sums):\n",
    "    ax.text(i, bar_value - 20, int(bar_value), ha='center', va='center', color=palette['green'], fontsize=10,\n",
    "            bbox=dict(boxstyle='square', facecolor='#98CCCF', edgecolor='#98CCCF'))\n",
    "\n",
    "#additioanl elements\n",
    "red_line = plt.plot((0.6, 1.4), (sum_1985, sum_1985), color=palette['red'], linestyle='--')\n",
    "arrow(1.43, sum_1985, 0, sum_1986-sum_1985, palette['red'])\n",
    "arrow(1.43, sum_1986, 0, -(sum_1986-sum_1985), palette['red'])\n",
    "\n",
    "#annotations\n",
    "plt.title('Total cancer cases in Belarus compared before and after the accident in Chernobyl nuclear station in 1986\\n\\n',\n",
    "          loc='left', fontweight='bold')\n",
    "\n",
    "annotate = ax.annotate('Count by 100.000 people\\n'\n",
    "                       'Data source: Byelorussian center of Medical Technologies\\n\\n', xy=(-0.49, np.max(sums)+5),\n",
    "                       fontsize=8, ha='left', va='bottom')\n",
    "\n",
    "text_box(1.47, sum_1985+(sum_1986-sum_1985)/2,\n",
    "         f'Total cancer cases\\nafter the accident\\nincreased by {int(sum_1986/sum_1985*100-100)}%')\n",
    "\n",
    "#xy labels\n",
    "ax.set_xlabel('years', weight='bold')\n",
    "ax.set_ylabel('total cancer cases', weight='bold')\n",
    "ax.set_ylim(0, np.max([np.max(sums)]) + 10)\n",
    "\n",
    "plt.show()"
   ]
  },
  {
   "cell_type": "code",
   "execution_count": null,
   "id": "6f3e2808",
   "metadata": {},
   "outputs": [],
   "source": [
    "fig = plt.figure()\n",
    "ax = plt.axes()\n",
    "\n",
    "#data preporation\n",
    "sum_1985_men = np.sum(df[(df['year'] == 1985) & (df['sex'] == 'men')]['cases'])\n",
    "sum_1986_men = np.sum(df[(df['year'] == 1986) & (df['sex'] == 'men')]['cases'])\n",
    "sum_1985_women = np.sum(df[(df['year'] == 1985) & (df['sex'] == 'women')]['cases'])\n",
    "sum_1986_women = np.sum(df[(df['year'] == 1986) & (df['sex'] == 'women')]['cases'])\n",
    "\n",
    "sum_men = [sum_1985_men, sum_1986_men]\n",
    "sum_women = [sum_1985_women, sum_1986_women]\n",
    "sums = [sum_1986_women, sum_1985_women, sum_1986_men, sum_1985_men]\n",
    "\n",
    "x = np.arange(len(sum_men))\n",
    "width = 0.4\n",
    "\n",
    "#bars\n",
    "bar = plt.bar(x-width/2, sum_men, width=width, color=palette['blue'])\n",
    "bar = plt.bar(x+width/2, sum_women, width=width, color=palette['violet'])\n",
    "\n",
    "#labels\n",
    "for i, bar_value in enumerate(sum_men):\n",
    "    ax.text(i-width/2, bar_value - 15, int(bar_value), ha='center', va='center', color=palette['green'], fontsize=10,\n",
    "            bbox=dict(boxstyle='square', facecolor='#98CCCF', edgecolor='#98CCCF'))\n",
    "\n",
    "for i, bar_value in enumerate(sum_women):\n",
    "    ax.text(i+width/2, bar_value - 15, int(bar_value), ha='center', va='center', color=palette['green'], fontsize=10,\n",
    "            bbox=dict(boxstyle='square', facecolor='#98CCCF', edgecolor='#98CCCF'))\n",
    "\n",
    "#annotations\n",
    "plt.title('Cancer cases for men and women in Belarus compared before and after the accident in Chernobyl '\n",
    "          'nuclear station in 1986\\n\\n', loc='left', fontweight='bold')\n",
    "\n",
    "annotate = ax.annotate('Count by 100.000 people\\n'\n",
    "                       'Data source: Byelorussian center of Medical Technologies\\n\\n', xy=(-0.49, np.max(sums)+45),\n",
    "                       fontsize=8, ha='left', va='bottom')\n",
    "\n",
    "for i, x in enumerate(sum_men):\n",
    "    plt.text(i, np.max(sums) + 25, years[i],\n",
    "             ha='center', va='center', color=palette['green'], fontsize=10,\n",
    "             bbox=dict(boxstyle='square', facecolor='#faf6ed', edgecolor='#faf6ed'))\n",
    "\n",
    "#additional elements\n",
    "red_line_women = plt.plot((1, 1.4), (sum_1985_women, sum_1985_women), color=palette['red'], linestyle='--')\n",
    "red_line_men = plt.plot((0.6, 1), (sum_1985_men, sum_1985_men), color=palette['red'], linestyle='--')\n",
    "\n",
    "arrow(1.03, sum_1985_men, 0, sum_1986_men-sum_1985_men, palette['red'])\n",
    "arrow(1.03, sum_1986_men, 0, -(sum_1986_men-sum_1985_men), palette['red'])\n",
    "\n",
    "arrow(1.43, sum_1985_women, 0, sum_1986_women-sum_1985_women, palette['red'])\n",
    "arrow(1.43, sum_1986_women, 0, -(sum_1986_women-sum_1985_women), palette['red'])\n",
    "\n",
    "\n",
    "text_box(1.07, sum_1985_men+(sum_1986_men-sum_1985_men)/2,\n",
    "         f'Mens cancer cases\\nafter the accident\\nincreased by {int(sum_1986_men/sum_1985_men*100-100)}%')\n",
    "\n",
    "text_box(1.47, sum_1985_women+(sum_1986_women-sum_1985_women)/2,\n",
    "         f'Womens cancer cases\\nafter the accident\\nincreased by {int(sum_1986_women/sum_1985_women*100-100)}%')\n",
    "\n",
    "green_axes()\n",
    "\n",
    "#xy labels and ticks\n",
    "ax.set_ylabel('total case number', weight='bold')\n",
    "ax.set_xlabel('year', weight='bold')\n",
    "\n",
    "xticks = ['men', 'women'] * len(sum_men)\n",
    "xticks_location = []\n",
    "\n",
    "for i, x in enumerate(sum_men):\n",
    "    xticks_location.append(i - width/2)\n",
    "    xticks_location.append(i + width/2)\n",
    "    \n",
    "yticks = [i*100 for i in np.arange(int(np.max(sums)/100 + 1))]\n",
    "ax.set_xticks(xticks_location, xticks)\n",
    "ax.set_yticks(yticks)\n",
    "\n",
    "ax.set_ylim(0, np.max([sums]) + 50)"
   ]
  },
  {
   "cell_type": "code",
   "execution_count": null,
   "id": "337ffff1",
   "metadata": {},
   "outputs": [],
   "source": [
    "ig = plt.figure()\n",
    "ax = plt.axes()\n",
    "\n",
    "#vertical lines\n",
    "x_left = 0.2\n",
    "x_right = 0.8\n",
    "y_line = 195\n",
    "\n",
    "ax.vlines(x=x_left, ymin=105, ymax=195, color=palette['red'], linewidth=1, linestyles='--')\n",
    "ax.vlines(x=x_right, ymin=105, ymax=195, color=palette['red'], linewidth=1, linestyles='--')\n",
    "\n",
    "#vertical lines labels\n",
    "ax.text(x_left, 195+3, 'BEFORE', ha='center', va='center', fontsize=12, weight='bold', color=palette['green'])\n",
    "ax.text(x_right, 195+3, 'AFTER', ha='center', va='center', fontsize=12, weight='bold', color=palette['green'])\n",
    "\n",
    "#data preparation\n",
    "df_agg = df.groupby(['location', 'year']).sum('cases').reset_index()\n",
    "\n",
    "#scatters\n",
    "ax.scatter(y=df_agg[df_agg['year'] == 1985]['cases'], x=np.repeat(x_left, df_agg.shape[0]/2), s=10, color=palette['red'])\n",
    "ax.scatter(y=df_agg[df_agg['year'] == 1986]['cases'], x=np.repeat(x_right, df_agg.shape[0]/2), s=10, color=palette['red'])\n",
    "\n",
    "#points labels\n",
    "for city in np.unique(df_agg['location']):\n",
    "    text_box(x_left-0.02, df_agg[(df_agg['year'] == 1985) & (df_agg['location'] == city)]['cases'], city, ha='right')\n",
    "\n",
    "for city in np.unique(df_agg['location']):\n",
    "    percentage = ((list(df_agg[(df_agg['year'] == 1986) & (df_agg['location'] == city)]['cases'].values)[0] /\n",
    "                 list(df_agg[(df_agg['year'] == 1985) & (df_agg['location'] == city)]['cases'].values)[0])*100-100)\n",
    "    text_box(x_right+0.02, df_agg[(df_agg['year'] == 1986) & (df_agg['location'] == city)]['cases'],\n",
    "             f\"{city} +{percentage.astype(int)}%\")\n",
    "\n",
    "for city in np.unique(df_agg['location']):\n",
    "    plt.plot([x_left, x_right], df_agg[df_agg['location'] == city]['cases'], color=palette['red'])\n",
    "\n",
    "#annotations\n",
    "plt.title('Cancer cases per city in Belarus compared before and after the accident in Chernobyl '\n",
    "          'nuclear station in 1986\\n\\n', loc='left', fontweight='bold')\n",
    "\n",
    "annotate = ax.annotate('Count by 100.000 people\\n'\n",
    "                       'Data source: Byelorussian center of Medical Technologies\\n\\n', xy=(0, 199),\n",
    "                       fontsize=8, ha='left', va='bottom')\n",
    "\n",
    "\n",
    "green_axes()\n",
    "\n",
    "ax.grid(False)\n",
    "\n",
    "ax.set_xlim(0, 1)\n",
    "ax.set_ylim(100, 200)\n",
    "yticks = df_agg['cases'].append(pd.Series([100, 150, 200])).astype('int')\n",
    "ax.set_yticks(yticks)\n",
    "ax.set_xticks([x_left, x_right], years)"
   ]
  },
  {
   "cell_type": "code",
   "execution_count": null,
   "id": "7002830b",
   "metadata": {},
   "outputs": [],
   "source": [
    "fig = plt.figure()\n",
    "ax = plt.axes()\n",
    "\n",
    "#data preparation\n",
    "df_agg = df.groupby(['cancer_type', 'year']).sum('cases').reset_index()\n",
    "\n",
    "df_discrepancies = pd.DataFrame({\n",
    "    'cancer_type': [],\n",
    "    'discrepancy': []\n",
    "})\n",
    "\n",
    "for cancer_type in np.unique(df_agg['cancer_type']):\n",
    "    discrepancy = df_agg[(df_agg['year'] == 1986) & (df_agg['cancer_type'] == cancer_type)].values[0][2]-\\\n",
    "                  df_agg[(df_agg['year'] == 1985) & (df_agg['cancer_type'] == cancer_type)].values[0][2]\n",
    "    df_discrepancies.loc[len(df_discrepancies)] = [cancer_type, discrepancy]\n",
    "\n",
    "    \n",
    "#labels   \n",
    "def labels_list(a, b):\n",
    "    return str(a) + '\\n' + str(round(b, 1))\n",
    "\n",
    "\n",
    "labels = df_discrepancies.apply(lambda x: labels_list(x.cancer_type, x.discrepancy), axis=1)\n",
    "\n",
    "#plot\n",
    "squarify.plot(sizes=df_discrepancies['discrepancy'], label=labels,\n",
    "              color=sns.color_palette('Spectral', n_colors=df_discrepancies.shape[0]))\n",
    "\n",
    "#annotations\n",
    "plt.title(label='Cancer cases for men and women in Belarus compared before and after the accident in Chernobyl '\n",
    "          'nuclear station in 1986\\n\\n', loc='left', fontweight='bold')\n",
    "\n",
    "annotate = ax.annotate('Count by 100.000 people\\n'\n",
    "                       'Data source: Byelorussian center of Medical Technologies\\n\\n', xy=(0, 98),\n",
    "                       fontsize=8, ha='left', va='bottom')\n",
    "\n",
    "#xy ticks\n",
    "plt.axis(False)\n",
    "ax.set_yticks([])\n",
    "ax.set_xticks([])\n",
    "\n",
    "plt.show()"
   ]
  }
 ],
 "metadata": {
  "kernelspec": {
   "display_name": "Python 3 (ipykernel)",
   "language": "python",
   "name": "python3"
  },
  "language_info": {
   "codemirror_mode": {
    "name": "ipython",
    "version": 3
   },
   "file_extension": ".py",
   "mimetype": "text/x-python",
   "name": "python",
   "nbconvert_exporter": "python",
   "pygments_lexer": "ipython3",
   "version": "3.10.7"
  }
 },
 "nbformat": 4,
 "nbformat_minor": 5
}
